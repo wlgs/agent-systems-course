{
 "cells": [
  {
   "cell_type": "markdown",
   "id": "creative-roulette",
   "metadata": {},
   "source": [
    "# Agent Systems - Introduction to Cellular Automata (16 points)"
   ]
  },
  {
   "cell_type": "markdown",
   "id": "sapphire-nudist",
   "metadata": {},
   "source": [
    "# Cellular Automata"
   ]
  },
  {
   "cell_type": "markdown",
   "id": "applied-allen",
   "metadata": {},
   "source": [
    "A Cellular Automata (abbreviated CA) is a **discrete, abstract computational system** ([Stanford Encyclopedia of Philospohy](https://plato.stanford.edu/entries/cellular-automata/)) used in various areas of science. Cellular Automata can simulate a wide range of processes in biology, chemistry etc. CA was invented by John von Neumann and Stanisław Ulam in the 1940s. A well-known specialist in CAs is Stephen Wolfram — creator of *Mathematica* and founder of *WolframAlpha*.\n",
    "\n",
    "### CA consists of the following elements:\n",
    "\n",
    "##### Grid\n",
    "*n*-dimensional regular and discrete grid containing cells.\n",
    "##### Cell\n",
    "A discrete element of the grid. Each cell can be in one of a finite number of states. All states are updated simultaneously according to transition rules.\n",
    "##### Transition rule\n",
    "A mathematical function returning a new state (at time = *t*+1) based on to the current states of the cell (at time = *t*) and its neighbours (determined by the neighbourhood).  \n",
    "##### Neighbourhood\n",
    "The two most popular neighbourhoods (2D) are:\n",
    "* Moore neighbourhood (8 cells):\n",
    "\n",
    "![image](https://upload.wikimedia.org/wikipedia/commons/8/86/CA-Moore.svg)\n",
    "\n",
    "<center>(source: <a href=\"https://commons.wikimedia.org/wiki/File:CA-Moore.svg\">wikimedia.org</a>)</center>\n",
    "\n",
    "* von Neumann neighbourhood (4 cells):\n",
    "\n",
    "![image](https://upload.wikimedia.org/wikipedia/commons/2/26/CA-von-Neumann.svg)\n",
    "\n",
    "<center>(source: <a href=\"https://commons.wikimedia.org/wiki/File:CA-von-Neumann.svg\">wikimedia.org</a>)</center>"
   ]
  },
  {
   "cell_type": "markdown",
   "id": "resistant-istanbul",
   "metadata": {},
   "source": [
    "# Conway's Game of Life"
   ]
  },
  {
   "cell_type": "markdown",
   "id": "exempt-genealogy",
   "metadata": {},
   "source": [
    "Invented in 1970 by John Conway, **Game of Life** is the first and probably best-known example of Cellular Automata. The evolution of this automata is fully determined by its initial state (zero-player game).\n",
    "\n",
    "The game centres around an infinite, two-dimensional grid of square cells. Each cell can be in one of the two  states: alive (*1*) or dead (*0*). In the original version each cell has 8 neighbours (Moore neighbourhood).\n",
    "\n",
    "#### A new state is determined according to the following rules:\n",
    "\n",
    "* Living cell remains **<span style=\"color:green\">alive</span>** (doesn't change state) only if it has **<span style=\"color:blue\">2</span>** or **<span style=\"color:blue\">3</span>** living neighbours, otherwise it becomes **dead**.\n",
    "* Dead cell surrounded by exactly **<span style=\"color:green\">3</span>** living cells **<span style=\"color:green\">becomes alive</span>**.\n",
    "\n",
    "This set of rules os often denoted as **<span style=\"color:blue\">23</span>/<span style=\"color:green\">3</span>**.\n",
    "\n",
    "All states are updated at the same time (simultaneously) resulting in a new **generation**. The initial state of the grid is sometimes called a **seed**. \n",
    "\n"
   ]
  },
  {
   "cell_type": "markdown",
   "id": "norman-nylon",
   "metadata": {},
   "source": [
    "## Patterns"
   ]
  },
  {
   "cell_type": "markdown",
   "id": "fossil-witch",
   "metadata": {},
   "source": [
    "Many interesting patterns can be observed on the board. Common pattern belongs to one of the three following groups :\n",
    "* **still life** (static) — structures that don't change between generations.\n",
    "    + block ![image](https://upload.wikimedia.org/wikipedia/commons/9/96/Game_of_life_block_with_border.svg)\n",
    "    + beehive ![image](https://upload.wikimedia.org/wikipedia/commons/6/67/Game_of_life_beehive.svg)\n",
    "    + loaf ![image](https://upload.wikimedia.org/wikipedia/commons/f/f4/Game_of_life_loaf.svg)\n",
    "* **oscillators** — structures that return to their initial states after a finite number of generations.\n",
    "    + beacon ![image](https://upload.wikimedia.org/wikipedia/commons/1/1c/Game_of_life_beacon.gif)\n",
    "    + blinker ![image](https://upload.wikimedia.org/wikipedia/commons/9/95/Game_of_life_blinker.gif)\n",
    "    + pulsar ![image](https://upload.wikimedia.org/wikipedia/commons/0/07/Game_of_life_pulsar.gif)\n",
    "* **spaceships** — structures that move across the grid.\n",
    "    + **glider** — probably the most famous pattern ![image](https://upload.wikimedia.org/wikipedia/commons/f/f2/Game_of_life_animated_glider.gif)    \n",
    "    + LWSS ![image](https://upload.wikimedia.org/wikipedia/commons/3/37/Game_of_life_animated_LWSS.gif)\n",
    "    + MWSS ![image](https://upload.wikimedia.org/wikipedia/commons/4/4e/Animated_Mwss.gif)\n",
    "    + HWSS ![image](https://upload.wikimedia.org/wikipedia/commons/4/4f/Animated_Hwss.gif)\n",
    "\n",
    "<center>(source of animations: <a href=\"https://commons.wikimedia.org/\">wikimedia.org</a>)</center>\n",
    "\n",
    "\n",
    "Before moving to implementation, check the patterns in the [original version](https://playgameoflife.com) of the game. \n",
    "\n",
    "You can find complex patterns in the [lexcion](https://playgameoflife.com/lexicon)."
   ]
  },
  {
   "cell_type": "markdown",
   "id": "bigger-carrier",
   "metadata": {},
   "source": [
    "# Python implementation of Conway's Game of Life"
   ]
  },
  {
   "cell_type": "markdown",
   "id": "d1531b69",
   "metadata": {},
   "source": [
    "During the classes you'll be using Python and `pygame` framework. If you haven't heard about `pygame` before, you can look at a short introductory tutorial to this [framework](https://realpython.com/pygame-a-primer/)."
   ]
  },
  {
   "cell_type": "markdown",
   "id": "adequate-bearing",
   "metadata": {},
   "source": [
    "## Basic implementation (3 points)\n",
    "Below you will find a simple implementation of Game of Life in Python. Please fill in the missing parts: rules and grid generation.\n",
    "* (1 point) Fill in the gaps in `initGrid` function. It should return a numpy array consisting of zeros and ones. Initialize the grid with random values.\n",
    "* (2 points) Write the `update` function. Implement Conway's rules.\n",
    "\n",
    "Run your code and observe CA's behaviour (a new window will appear, you can move to the next state using the right arrow key). Check some popular patterns. \n",
    "\n"
   ]
  },
  {
   "cell_type": "code",
   "execution_count": null,
   "id": "annoying-animation",
   "metadata": {},
   "outputs": [],
   "source": [
    "import numpy as np\n",
    "import itertools\n",
    "import pygame\n",
    "\n",
    "from pygame.locals import (\n",
    "    K_UP,\n",
    "    K_DOWN,\n",
    "    K_LEFT,\n",
    "    K_RIGHT,\n",
    "    K_ESCAPE,\n",
    "    KEYDOWN,\n",
    "    QUIT,\n",
    ")"
   ]
  },
  {
   "cell_type": "code",
   "execution_count": null,
   "id": "compliant-semester",
   "metadata": {},
   "outputs": [],
   "source": [
    "# Grid size\n",
    "rows = 40\n",
    "cols = 40"
   ]
  },
  {
   "cell_type": "code",
   "execution_count": null,
   "id": "restricted-macintosh",
   "metadata": {},
   "outputs": [],
   "source": [
    "def initGrid(rows,cols):\n",
    "    # Initialize grid here\n",
    "    return\n",
    "    \n",
    "def update(grid):\n",
    "    rows, cols = grid.shape\n",
    "    newGrid = grid.copy()\n",
    "                            \n",
    "    return newGrid\n"
   ]
  },
  {
   "cell_type": "code",
   "execution_count": null,
   "id": "b4fe3b76",
   "metadata": {},
   "outputs": [],
   "source": [
    "def drawGrid(screen,grid,w_width, w_height):\n",
    "    alive_colour = (0,0,0)\n",
    "    dead_colour = (255,255,255)\n",
    "    rows, cols = grid.shape\n",
    "    blockSize = (min(w_width, w_height)-max(rows, cols))/max(rows, cols)\n",
    "    # For the sake of simplicity, we're skipping first and last rows & columns\n",
    "    for x in range(1, rows-1):\n",
    "        for y in range(1, cols-1):\n",
    "            pos_x = (blockSize+1)*x\n",
    "            pos_y = (blockSize+1)*y\n",
    "            rect = pygame.Rect(pos_x, pos_y, blockSize, blockSize)\n",
    "            if grid[x][y] == 1:\n",
    "                pygame.draw.rect(screen, alive_colour, rect, 0)\n",
    "            else:\n",
    "                pygame.draw.rect(screen, dead_colour, rect, 0)    \n",
    "    pygame.display.flip()\n"
   ]
  },
  {
   "cell_type": "code",
   "execution_count": null,
   "id": "03626685",
   "metadata": {},
   "outputs": [],
   "source": [
    "pygame.init()\n",
    "w_width = 800\n",
    "w_height = 800\n",
    "# Set up the drawing window, adjust the size\n",
    "screen = pygame.display.set_mode([w_width, w_height])\n",
    "grid = initGrid(rows,cols)\n",
    "\n",
    "# Set background\n",
    "screen.fill((128, 128, 128))\n",
    "\n",
    "drawGrid(screen, grid, w_width, w_height)\n",
    "    \n",
    "running = True\n",
    "\n",
    "while running:\n",
    "    for event in pygame.event.get():   \n",
    "        if event.type == QUIT:\n",
    "            running = False\n",
    "        \n",
    "        if event.type == KEYDOWN:\n",
    "            if event.key == K_RIGHT:\n",
    "                grid = update(grid)\n",
    "                drawGrid(screen, grid, w_width, w_height)\n",
    "\n",
    "\n",
    "pygame.quit()"
   ]
  },
  {
   "cell_type": "markdown",
   "id": "growing-frame",
   "metadata": {},
   "source": [
    "## Alternative Rules (3 points)"
   ]
  },
  {
   "cell_type": "markdown",
   "id": "demonstrated-valentine",
   "metadata": {},
   "source": [
    "Create a **rule-independent implementation** (e.g. rules are passed as parameters). Please implement the following rules:\n",
    "* Cities — 2345/45678.\n",
    "* Coral — 45678/3.\n",
    "\n",
    "Try to find other interesting rules. \n"
   ]
  },
  {
   "cell_type": "code",
   "execution_count": null,
   "id": "bbdfba33",
   "metadata": {},
   "outputs": [],
   "source": []
  },
  {
   "cell_type": "markdown",
   "id": "ecf99d36",
   "metadata": {},
   "source": [
    "## Periodic Boundaries (2 points)\n",
    "In the implementation above, we're omitting cells located at the edges of the grid. Another way of dealing with border cells is to implement periodic boundaries. In order to implement them, you'll have to find a way of connectiong together the first and the last row, and the first and the last column. You can achieve this goal using e.g. modular arithmetic."
   ]
  },
  {
   "cell_type": "code",
   "execution_count": null,
   "id": "6e3ece7a",
   "metadata": {},
   "outputs": [],
   "source": []
  },
  {
   "cell_type": "markdown",
   "id": "3bc07183",
   "metadata": {},
   "source": [
    "## Additional modifications (4 points)\n",
    "Implement additional features:\n",
    "* (1 point) Counter displaying current time/step number ($t_0$ = *initial state*).\n",
    "* (2 points) Previous states: Implement the possibility to go back to the previous states by using the left arrow key.\n",
    "* (1 point) Add a field which will allow user to write the rule in a text field inside the GUI"
   ]
  },
  {
   "cell_type": "markdown",
   "id": "associate-there",
   "metadata": {},
   "source": [
    "# Rain (4 points)"
   ]
  },
  {
   "cell_type": "markdown",
   "id": "herbal-sense",
   "metadata": {},
   "source": [
    "Create a CA simulation of the rain:\n",
    "* Change the neighbourhood definition. In this simulation, each cell will have only one neighbour i.e. the cell directly above it. \n",
    "* Create a function then randomly (with low probability e.g. 5%) changes the values in the first row of the grid to 6. Call this function in each `update` call. \n",
    "* Implement the following transition rules: \n",
    "    * If the current cell state is higher than 0, decrease the state by 1,\n",
    "    * If the current cell state is 0 and the value at the cell directly above is greater than 0, change the next state to 6.\n",
    "* Modifiy `drawGrid` function. Use different colours for different values from range 0-6.\n",
    "\n",
    "\n"
   ]
  },
  {
   "cell_type": "code",
   "execution_count": null,
   "id": "9bf4aed8",
   "metadata": {},
   "outputs": [],
   "source": []
  }
 ],
 "metadata": {
  "kernelspec": {
   "display_name": "Python 3 (ipykernel)",
   "language": "python",
   "name": "python3"
  },
  "language_info": {
   "codemirror_mode": {
    "name": "ipython",
    "version": 3
   },
   "file_extension": ".py",
   "mimetype": "text/x-python",
   "name": "python",
   "nbconvert_exporter": "python",
   "pygments_lexer": "ipython3",
   "version": "3.11.4"
  }
 },
 "nbformat": 4,
 "nbformat_minor": 5
}
