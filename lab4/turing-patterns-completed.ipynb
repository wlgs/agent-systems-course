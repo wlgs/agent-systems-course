{
 "cells": [
  {
   "cell_type": "markdown",
   "id": "09b89a8f",
   "metadata": {},
   "source": [
    "# Turing patterns and your own automata (16 points)"
   ]
  },
  {
   "cell_type": "markdown",
   "id": "47abbb80",
   "metadata": {},
   "source": [
    "Animal skin patterns are a beautiful and intriguing example of pattern formation in biology. They were studied by famous English mathematician Alan Turing, who, in 1952, published a paper titled *The Chemical Basis of Morphogenesis*. In his model, Turing described interactions between two homogeneneously distributed substances, that produce stable patterns. His model used partial differential equations. During this classes you'll implement a simpler, CA version of this model developed by [David Young](https://www.sciencedirect.com/science/article/abs/pii/0025556484900609).\n",
    "![image](https://upload.wikimedia.org/wikipedia/commons/a/a1/TuringPattern.PNG)\n",
    "<center>(source: <a href=\"https://upload.wikimedia.org/wikipedia/commons/a/a1/TuringPattern.PNG\">wikimedia.org</a>)</center>"
   ]
  },
  {
   "cell_type": "markdown",
   "id": "9163de48",
   "metadata": {},
   "source": [
    "## David Young model\n",
    "\n",
    "##### Grid\n",
    "Two-dimensional rectangular grid.\n",
    "\n",
    "##### Cells\n",
    "Binary cells: `0` (inactive/passive) or `1` (active).\n",
    "\n",
    "##### Neighbourhood\n",
    "This model uses two Moore neighbourhoods. The first, with radius $R_a$, is used for determining the number of active cells (*short-range activation*). The second one, with greater radius $R_i$ is used for counting the amount of inactive/passive cells (*long-range inhibition*). $R_a$ and $R_i$ ($R_a<R_i$), as well as $w_a$ and $w_i$, are the model's parameters. We're considering only odd $R_a$ and $R_i$ values.\n",
    "\n",
    "##### Model\n",
    "Mathematically speaking, the model can be described as (Hiroki Sayama, *Introduction to the Modeling and Analysis of Complex Systems*):\n",
    "* <center>Short-range neighbourhood:</center>\n",
    "$$N_a = \\left\\{ x'\\left| |x'|\\right. \\leq R_a \\right\\}$$\n",
    "* <center>Long-range neighbourhood:</center>\n",
    " $$N_i = \\left\\{ x'\\left| |x'|\\right. \\leq R_i \\right\\}$$\n",
    "* <center>Transition function:</center>\n",
    " $$a_t(x) = w_a\\sum_{x' \\in N_a}s_t(x+x')-w_i\\sum_{x' \\in N_i}s_t(x+x')$$\n",
    "* $s_t$ is a mathematical function that maps location to state, the sum is simply a sum of neighbours values\n",
    "  $$s_{t+1}(x) = \\left\\{ \\begin{array}{ll}1 & \\text{if } a_t(x) > 0\\\\0 & \\text{otherwise}\\end{array}\\right.$$\n"
   ]
  },
  {
   "cell_type": "markdown",
   "id": "ff59baef",
   "metadata": {},
   "source": [
    "## Python implementation of David Young's model (4 points)\n",
    "Fill in the gaps in the following code."
   ]
  },
  {
   "cell_type": "code",
   "execution_count": 1,
   "id": "8f62c580",
   "metadata": {},
   "outputs": [
    {
     "name": "stdout",
     "output_type": "stream",
     "text": [
      "pygame 2.6.1 (SDL 2.28.4, Python 3.13.0)\n",
      "Hello from the pygame community. https://www.pygame.org/contribute.html\n"
     ]
    }
   ],
   "source": [
    "import numpy as np\n",
    "import itertools\n",
    "import pygame\n",
    "\n",
    "from pygame.locals import (\n",
    "    K_UP,\n",
    "    K_DOWN,\n",
    "    K_LEFT,\n",
    "    K_RIGHT,\n",
    "    K_ESCAPE,\n",
    "    KEYDOWN,\n",
    "    QUIT,\n",
    ")"
   ]
  },
  {
   "cell_type": "code",
   "execution_count": 2,
   "id": "e4d64f82",
   "metadata": {},
   "outputs": [],
   "source": [
    "# Grid size\n",
    "rows = 80\n",
    "cols = 80"
   ]
  },
  {
   "cell_type": "code",
   "execution_count": 7,
   "id": "99c0b720",
   "metadata": {},
   "outputs": [],
   "source": [
    "class Model:\n",
    "    def __init__(self, rows, cols, Ra, Ri, wa, wi,p1):\n",
    "        self.grid = np.random.choice([0, 1], size=(rows, cols), p=[1-p1, p1])\n",
    "        # self.grid = np.zeros((rows, cols))\n",
    "        # self.grid[rows//2-1:rows//2+1, cols//2-1:cols//2+1] = 1\n",
    "        self.Ra = Ra\n",
    "        self.Ri = Ri\n",
    "        self.wa = wa\n",
    "        self.wi = wi\n",
    "    \n",
    "    def update(self):\n",
    "        rows, cols = self.grid.shape\n",
    "        new_grid = self.grid.copy()\n",
    "        for x in range(0, rows):\n",
    "            for y in range(0, cols):\n",
    "                a = np.sum(self.grid[x-self.Ra:x+self.Ra+1, y-self.Ra:y+self.Ra+1]) * self.wa - \\\n",
    "                    np.sum(self.grid[x-self.Ri:x+self.Ri+1, y-self.Ri:y+self.Ri+1]) * self.wi\n",
    "                if a > 0:\n",
    "                    new_grid[x][y] = 1\n",
    "                elif a < 0:\n",
    "                    new_grid[x][y] = 0\n",
    "        self.grid = new_grid\n",
    "        return\n",
    "\n",
    "    def drawGrid(self, screen,w_width, w_height):\n",
    "        black = (0,0,0)\n",
    "        white = (255,255,255)\n",
    "        rows, cols = self.grid.shape\n",
    "        blockSize = (min(w_width, w_height)-max(rows, cols))/max(rows, cols)\n",
    "        for x in range(self.Ri, rows-self.Ri):\n",
    "            for y in range(self.Ri, cols-self.Ri):\n",
    "                pos_x = (blockSize+1)*x\n",
    "                pos_y = (blockSize+1)*y\n",
    "                rect = pygame.Rect(pos_x, pos_y, blockSize, blockSize)\n",
    "                if self.grid[x][y] == 1:\n",
    "                    pygame.draw.rect(screen, black, rect, 0)\n",
    "                else:\n",
    "                    pygame.draw.rect(screen, white, rect, 0)    \n",
    "        pygame.display.flip()"
   ]
  },
  {
   "cell_type": "code",
   "execution_count": 16,
   "id": "26cf6b37",
   "metadata": {
    "scrolled": true
   },
   "outputs": [
    {
     "ename": "KeyboardInterrupt",
     "evalue": "",
     "output_type": "error",
     "traceback": [
      "\u001b[0;31m---------------------------------------------------------------------------\u001b[0m",
      "\u001b[0;31mKeyboardInterrupt\u001b[0m                         Traceback (most recent call last)",
      "Cell \u001b[0;32mIn[16], line 20\u001b[0m\n\u001b[1;32m     17\u001b[0m pygame\u001b[38;5;241m.\u001b[39mtime\u001b[38;5;241m.\u001b[39mset_timer(timer_event, time_delay )\n\u001b[1;32m     19\u001b[0m \u001b[38;5;28;01mwhile\u001b[39;00m running:\n\u001b[0;32m---> 20\u001b[0m     \u001b[38;5;28;01mfor\u001b[39;00m event \u001b[38;5;129;01min\u001b[39;00m \u001b[43mpygame\u001b[49m\u001b[38;5;241;43m.\u001b[39;49m\u001b[43mevent\u001b[49m\u001b[38;5;241;43m.\u001b[39;49m\u001b[43mget\u001b[49m\u001b[43m(\u001b[49m\u001b[43m)\u001b[49m:   \n\u001b[1;32m     21\u001b[0m         \u001b[38;5;28;01mif\u001b[39;00m event\u001b[38;5;241m.\u001b[39mtype \u001b[38;5;241m==\u001b[39m QUIT:\n\u001b[1;32m     22\u001b[0m             running \u001b[38;5;241m=\u001b[39m \u001b[38;5;28;01mFalse\u001b[39;00m\n",
      "\u001b[0;31mKeyboardInterrupt\u001b[0m: "
     ]
    }
   ],
   "source": [
    "pygame.init()\n",
    "w_width = 800\n",
    "w_height = 800\n",
    "# Set up the drawing window, adjust the size\n",
    "screen = pygame.display.set_mode([w_width, w_height])\n",
    "model = Model(rows,cols, 3, 5, 0.8, 0.4, 0.1)\n",
    "\n",
    "# Set background\n",
    "screen.fill((128, 128, 128))\n",
    "\n",
    "model.drawGrid(screen, w_width, w_height)\n",
    "    \n",
    "running = True\n",
    "\n",
    "time_delay = 100 # 0.1 s\n",
    "timer_event = pygame.USEREVENT + 1\n",
    "pygame.time.set_timer(timer_event, time_delay )\n",
    "\n",
    "while running:\n",
    "    for event in pygame.event.get():   \n",
    "        if event.type == QUIT:\n",
    "            running = False\n",
    "        \n",
    "        if event.type == KEYDOWN:\n",
    "            if event.key == K_RIGHT:\n",
    "                model.update()\n",
    "                model.drawGrid(screen, w_width, w_height)\n",
    "        # if event.type == timer_event:\n",
    "        #         model.update()\n",
    "        #         model.drawGrid(screen, w_width, w_height)\n",
    "\n",
    "\n",
    "pygame.quit()"
   ]
  },
  {
   "cell_type": "markdown",
   "id": "3fe03672",
   "metadata": {},
   "source": [
    "## Analysis (5 points)\n",
    "Check different values of $w_a, w_i, R_a, R_b$. Find 5 visually different stable or oscilating patterns. Write down the parameteres and present results. Two sets of parameteres are considered to be different if at least two of the parameters are **substantially** different."
   ]
  },
  {
   "cell_type": "markdown",
   "id": "efb019c1",
   "metadata": {},
   "source": [
    "## Improvements (3 points)\n",
    "In order to get this points you have to complete all of the previous tasks. Add widgets for parameters changing (e.g. slider or text field)\n"
   ]
  },
  {
   "cell_type": "code",
   "execution_count": null,
   "id": "a7a25d32",
   "metadata": {},
   "outputs": [],
   "source": []
  },
  {
   "cell_type": "markdown",
   "id": "711fe4ed",
   "metadata": {},
   "source": [
    "# Your cellular automata (4 points)"
   ]
  },
  {
   "cell_type": "markdown",
   "id": "a994ba20",
   "metadata": {},
   "source": [
    "In order to get this points you have to complete all of the previous tasks.\n",
    "Find another example of CA based model, descirbe the rules and implement the automata"
   ]
  },
  {
   "cell_type": "code",
   "execution_count": null,
   "id": "5cc1690c",
   "metadata": {},
   "outputs": [],
   "source": []
  }
 ],
 "metadata": {
  "kernelspec": {
   "display_name": "agent-systems",
   "language": "python",
   "name": "python3"
  },
  "language_info": {
   "codemirror_mode": {
    "name": "ipython",
    "version": 3
   },
   "file_extension": ".py",
   "mimetype": "text/x-python",
   "name": "python",
   "nbconvert_exporter": "python",
   "pygments_lexer": "ipython3",
   "version": "3.13.0"
  }
 },
 "nbformat": 4,
 "nbformat_minor": 5
}
