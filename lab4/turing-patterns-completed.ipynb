{
 "cells": [
  {
   "cell_type": "markdown",
   "id": "09b89a8f",
   "metadata": {},
   "source": [
    "# Turing patterns and your own automata (16 points)"
   ]
  },
  {
   "cell_type": "markdown",
   "id": "47abbb80",
   "metadata": {},
   "source": [
    "Animal skin patterns are a beautiful and intriguing example of pattern formation in biology. They were studied by famous English mathematician Alan Turing, who, in 1952, published a paper titled *The Chemical Basis of Morphogenesis*. In his model, Turing described interactions between two homogeneneously distributed substances, that produce stable patterns. His model used partial differential equations. During this classes you'll implement a simpler, CA version of this model developed by [David Young](https://www.sciencedirect.com/science/article/abs/pii/0025556484900609).\n",
    "![image](https://upload.wikimedia.org/wikipedia/commons/a/a1/TuringPattern.PNG)\n",
    "<center>(source: <a href=\"https://upload.wikimedia.org/wikipedia/commons/a/a1/TuringPattern.PNG\">wikimedia.org</a>)</center>"
   ]
  },
  {
   "cell_type": "markdown",
   "id": "9163de48",
   "metadata": {},
   "source": [
    "## David Young model\n",
    "\n",
    "##### Grid\n",
    "Two-dimensional rectangular grid.\n",
    "\n",
    "##### Cells\n",
    "Binary cells: `0` (inactive/passive) or `1` (active).\n",
    "\n",
    "##### Neighbourhood\n",
    "This model uses two Moore neighbourhoods. The first, with radius $R_a$, is used for determining the number of active cells (*short-range activation*). The second one, with greater radius $R_i$ is used for counting the amount of inactive/passive cells (*long-range inhibition*). $R_a$ and $R_i$ ($R_a<R_i$), as well as $w_a$ and $w_i$, are the model's parameters. We're considering only odd $R_a$ and $R_i$ values.\n",
    "\n",
    "##### Model\n",
    "Mathematically speaking, the model can be described as (Hiroki Sayama, *Introduction to the Modeling and Analysis of Complex Systems*):\n",
    "* <center>Short-range neighbourhood:</center>\n",
    "$$N_a = \\left\\{ x'\\left| |x'|\\right. \\leq R_a \\right\\}$$\n",
    "* <center>Long-range neighbourhood:</center>\n",
    " $$N_i = \\left\\{ x'\\left| |x'|\\right. \\leq R_i \\right\\}$$\n",
    "* <center>Transition function:</center>\n",
    " $$a_t(x) = w_a\\sum_{x' \\in N_a}s_t(x+x')-w_i\\sum_{x' \\in N_i}s_t(x+x')$$\n",
    "* $s_t$ is a mathematical function that maps location to state, the sum is simply a sum of neighbours values\n",
    "  $$s_{t+1}(x) = \\left\\{ \\begin{array}{ll}1 & \\text{if } a_t(x) > 0\\\\0 & \\text{otherwise}\\end{array}\\right.$$\n"
   ]
  },
  {
   "cell_type": "markdown",
   "id": "ff59baef",
   "metadata": {},
   "source": [
    "## Python implementation of David Young's model (4 points)\n",
    "Fill in the gaps in the following code."
   ]
  },
  {
   "cell_type": "code",
   "execution_count": 71,
   "id": "8f62c580",
   "metadata": {},
   "outputs": [],
   "source": [
    "import numpy as np\n",
    "import itertools\n",
    "import pygame\n",
    "\n",
    "from pygame.locals import (\n",
    "    K_UP,\n",
    "    K_DOWN,\n",
    "    K_LEFT,\n",
    "    K_RIGHT,\n",
    "    K_ESCAPE,\n",
    "    KEYDOWN,\n",
    "    QUIT,\n",
    ")\n",
    "\n",
    "# Grid size\n",
    "rows = 80\n",
    "cols = 80"
   ]
  },
  {
   "cell_type": "code",
   "execution_count": 72,
   "id": "99c0b720",
   "metadata": {},
   "outputs": [],
   "source": [
    "class Model:\n",
    "    def __init__(self, rows, cols, Ra, Ri, wa, wi, p1):\n",
    "        self.grid = np.random.choice([0, 1], size=(rows, cols), p=[1-p1, p1])\n",
    "        self.p1 = p1\n",
    "        self.Ra = Ra\n",
    "        self.Ri = Ri\n",
    "        self.wa = wa\n",
    "        self.wi = wi\n",
    "\n",
    "    def calculate_neighbourhood_by_radius(self, x, y, r, count_what):\n",
    "        y_indices, x_indices = np.ogrid[-r:r+1, -r:r+1]\n",
    "        mask = x_indices**2 + y_indices**2 <= r**2\n",
    "        x_min, x_max = max(0, x-r), min(self.grid.shape[0], x+r+1)\n",
    "        y_min, y_max = max(0, y-r), min(self.grid.shape[1], y+r+1)\n",
    "        neighbourhood = self.grid[x_min:x_max, y_min:y_max]\n",
    "        count = np.sum(neighbourhood[mask[:neighbourhood.shape[0], :neighbourhood.shape[1]]] == count_what)\n",
    "        if self.grid[x, y] == count_what:\n",
    "            count -= 1\n",
    "        return count\n",
    "    \n",
    "    def calculate_neighbourhood_by_square(self, x, y, r, count_what):\n",
    "        x_min, x_max = max(0, x-r), min(self.grid.shape[0], x+r+1)\n",
    "        y_min, y_max = max(0, y-r), min(self.grid.shape[1], y+r+1)\n",
    "        if self.grid[x, y] == count_what:\n",
    "            return np.sum(self.grid[x_min:x_max, y_min:y_max] == count_what) - 1\n",
    "        return np.sum(self.grid[x_min:x_max, y_min:y_max] == count_what)\n",
    "    \n",
    "    def update(self):\n",
    "        rows, cols = self.grid.shape\n",
    "        new_grid = self.grid.copy()\n",
    "        for x in range(rows):\n",
    "            for y in range(cols):\n",
    "                ar_neighbourhood_val = self.calculate_neighbourhood_by_radius(x, y, self.Ra, 1)\n",
    "                ir_neighbourhood_val = self.calculate_neighbourhood_by_radius(x, y, self.Ri, 1)\n",
    "                # ar_neighbourhood_val = self.calculate_neighbourhood_by_square(x, y, self.Ra, 1)\n",
    "                # ir_neighbourhood_val = self.calculate_neighbourhood_by_square(x, y, self.Ri, 1)\n",
    "                a = ar_neighbourhood_val * self.wa - ir_neighbourhood_val * self.wi\n",
    "                if a > 0:\n",
    "                    new_grid[x, y] = 1\n",
    "                else:\n",
    "                    new_grid[x, y] = 0\n",
    "        self.grid = new_grid\n",
    "\n",
    "    def drawGrid(self, screen, w_width, w_height, padding_y = 0):\n",
    "        black = (0, 0, 0)\n",
    "        white = (255, 255, 255)\n",
    "        rows, cols = self.grid.shape\n",
    "        blockSize = min(w_width // cols, (w_height-padding_y) // rows)\n",
    "        for x in range(rows):\n",
    "            for y in range(cols):\n",
    "                pos_x = blockSize * x\n",
    "                pos_y = blockSize * y\n",
    "                rect = pygame.Rect(pos_x, pos_y+padding_y, blockSize, blockSize)\n",
    "                if self.grid[x, y] == 1:\n",
    "                    pygame.draw.rect(screen, black, rect, 0)\n",
    "                else:\n",
    "                    pygame.draw.rect(screen, white, rect, 0)"
   ]
  },
  {
   "cell_type": "code",
   "execution_count": 73,
   "id": "0049961a",
   "metadata": {},
   "outputs": [],
   "source": [
    "class Simulation():\n",
    "    def __init__(self, model, timerEnabled = False, w_width = 800, w_height = 800):\n",
    "        pygame.init()\n",
    "        self.w_width = w_width\n",
    "        self.w_height = w_height\n",
    "        self.screen = pygame.display.set_mode([self.w_width, self.w_height])\n",
    "        self.model = model\n",
    "        self.time_delay = 100 # 0.1 s\n",
    "        self.timer_event = pygame.USEREVENT + 1\n",
    "        self.running = False\n",
    "        self.timerEnabled = timerEnabled\n",
    "        pygame.time.set_timer(self.timer_event, self.time_delay)\n",
    "\n",
    "    def draw(self):\n",
    "        self.screen.fill((128, 128, 128))\n",
    "        self.model.drawGrid(self.screen, self.w_width, self.w_height)\n",
    "        pygame.display.flip()\n",
    "\n",
    "    def run(self):\n",
    "        self.running = True\n",
    "        self.draw()\n",
    "        while self.running:\n",
    "            for event in pygame.event.get():   \n",
    "                if event.type == QUIT:\n",
    "                    self.running = False\n",
    "                if event.type == KEYDOWN:\n",
    "                    self.model.update()\n",
    "                    self.draw()\n",
    "                if self.timerEnabled and event.type == self.timer_event:\n",
    "                    self.model.update()\n",
    "                    self.draw()\n",
    "        pygame.quit()"
   ]
  },
  {
   "cell_type": "code",
   "execution_count": null,
   "id": "44639969",
   "metadata": {},
   "outputs": [],
   "source": [
    "default_model = Model(rows,cols, 3, 5, 1 , 0.2, 0.5)\n",
    "sim = Simulation(default_model)\n",
    "sim.run()"
   ]
  },
  {
   "cell_type": "markdown",
   "id": "3fe03672",
   "metadata": {},
   "source": [
    "## Analysis (5 points)\n",
    "Check different values of $w_a, w_i, R_a, R_b$. Find 5 visually different stable or oscilating patterns. Write down the parameteres and present results. Two sets of parameteres are considered to be different if at least two of the parameters are **substantially** different."
   ]
  },
  {
   "cell_type": "code",
   "execution_count": 74,
   "id": "7c3a6d52",
   "metadata": {},
   "outputs": [
    {
     "ename": "KeyboardInterrupt",
     "evalue": "",
     "output_type": "error",
     "traceback": [
      "\u001b[0;31m---------------------------------------------------------------------------\u001b[0m",
      "\u001b[0;31mKeyboardInterrupt\u001b[0m                         Traceback (most recent call last)",
      "Cell \u001b[0;32mIn[74], line 3\u001b[0m\n\u001b[1;32m      1\u001b[0m stable_model \u001b[38;5;241m=\u001b[39m Model(rows,cols, \u001b[38;5;241m3\u001b[39m, \u001b[38;5;241m5\u001b[39m, \u001b[38;5;241m2.77\u001b[39m, \u001b[38;5;241m1\u001b[39m, \u001b[38;5;241m0.5\u001b[39m)\n\u001b[1;32m      2\u001b[0m sim \u001b[38;5;241m=\u001b[39m Simulation(stable_model)\n\u001b[0;32m----> 3\u001b[0m \u001b[43msim\u001b[49m\u001b[38;5;241;43m.\u001b[39;49m\u001b[43mrun\u001b[49m\u001b[43m(\u001b[49m\u001b[43m)\u001b[49m\n",
      "Cell \u001b[0;32mIn[73], line 23\u001b[0m, in \u001b[0;36mSimulation.run\u001b[0;34m(self)\u001b[0m\n\u001b[1;32m     21\u001b[0m \u001b[38;5;28mself\u001b[39m\u001b[38;5;241m.\u001b[39mdraw()\n\u001b[1;32m     22\u001b[0m \u001b[38;5;28;01mwhile\u001b[39;00m \u001b[38;5;28mself\u001b[39m\u001b[38;5;241m.\u001b[39mrunning:\n\u001b[0;32m---> 23\u001b[0m     \u001b[38;5;28;01mfor\u001b[39;00m event \u001b[38;5;129;01min\u001b[39;00m \u001b[43mpygame\u001b[49m\u001b[38;5;241;43m.\u001b[39;49m\u001b[43mevent\u001b[49m\u001b[38;5;241;43m.\u001b[39;49m\u001b[43mget\u001b[49m\u001b[43m(\u001b[49m\u001b[43m)\u001b[49m:   \n\u001b[1;32m     24\u001b[0m         \u001b[38;5;28;01mif\u001b[39;00m event\u001b[38;5;241m.\u001b[39mtype \u001b[38;5;241m==\u001b[39m QUIT:\n\u001b[1;32m     25\u001b[0m             \u001b[38;5;28mself\u001b[39m\u001b[38;5;241m.\u001b[39mrunning \u001b[38;5;241m=\u001b[39m \u001b[38;5;28;01mFalse\u001b[39;00m\n",
      "\u001b[0;31mKeyboardInterrupt\u001b[0m: "
     ]
    }
   ],
   "source": [
    "stable_model = Model(rows,cols, 3, 5, 2.77, 1, 0.5)\n",
    "sim = Simulation(stable_model)\n",
    "sim.run()"
   ]
  },
  {
   "cell_type": "code",
   "execution_count": 75,
   "id": "d8f7b4c9",
   "metadata": {},
   "outputs": [
    {
     "ename": "KeyboardInterrupt",
     "evalue": "",
     "output_type": "error",
     "traceback": [
      "\u001b[0;31m---------------------------------------------------------------------------\u001b[0m",
      "\u001b[0;31mKeyboardInterrupt\u001b[0m                         Traceback (most recent call last)",
      "Cell \u001b[0;32mIn[75], line 3\u001b[0m\n\u001b[1;32m      1\u001b[0m growing_out_of_squares_model \u001b[38;5;241m=\u001b[39m Model(rows,cols, \u001b[38;5;241m3\u001b[39m, \u001b[38;5;241m9\u001b[39m, \u001b[38;5;241m0.5\u001b[39m, \u001b[38;5;241m0.11\u001b[39m, \u001b[38;5;241m1\u001b[39m)\n\u001b[1;32m      2\u001b[0m sim \u001b[38;5;241m=\u001b[39m Simulation(growing_out_of_squares_model)\n\u001b[0;32m----> 3\u001b[0m \u001b[43msim\u001b[49m\u001b[38;5;241;43m.\u001b[39;49m\u001b[43mrun\u001b[49m\u001b[43m(\u001b[49m\u001b[43m)\u001b[49m\n",
      "Cell \u001b[0;32mIn[73], line 23\u001b[0m, in \u001b[0;36mSimulation.run\u001b[0;34m(self)\u001b[0m\n\u001b[1;32m     21\u001b[0m \u001b[38;5;28mself\u001b[39m\u001b[38;5;241m.\u001b[39mdraw()\n\u001b[1;32m     22\u001b[0m \u001b[38;5;28;01mwhile\u001b[39;00m \u001b[38;5;28mself\u001b[39m\u001b[38;5;241m.\u001b[39mrunning:\n\u001b[0;32m---> 23\u001b[0m     \u001b[38;5;28;01mfor\u001b[39;00m event \u001b[38;5;129;01min\u001b[39;00m \u001b[43mpygame\u001b[49m\u001b[38;5;241;43m.\u001b[39;49m\u001b[43mevent\u001b[49m\u001b[38;5;241;43m.\u001b[39;49m\u001b[43mget\u001b[49m\u001b[43m(\u001b[49m\u001b[43m)\u001b[49m:   \n\u001b[1;32m     24\u001b[0m         \u001b[38;5;28;01mif\u001b[39;00m event\u001b[38;5;241m.\u001b[39mtype \u001b[38;5;241m==\u001b[39m QUIT:\n\u001b[1;32m     25\u001b[0m             \u001b[38;5;28mself\u001b[39m\u001b[38;5;241m.\u001b[39mrunning \u001b[38;5;241m=\u001b[39m \u001b[38;5;28;01mFalse\u001b[39;00m\n",
      "\u001b[0;31mKeyboardInterrupt\u001b[0m: "
     ]
    }
   ],
   "source": [
    "growing_out_of_squares_model = Model(rows,cols, 3, 9, 0.5, 0.11, 1)\n",
    "sim = Simulation(growing_out_of_squares_model)\n",
    "sim.run()"
   ]
  },
  {
   "cell_type": "code",
   "execution_count": 76,
   "id": "83e521c2",
   "metadata": {},
   "outputs": [
    {
     "ename": "KeyboardInterrupt",
     "evalue": "",
     "output_type": "error",
     "traceback": [
      "\u001b[0;31m---------------------------------------------------------------------------\u001b[0m",
      "\u001b[0;31mKeyboardInterrupt\u001b[0m                         Traceback (most recent call last)",
      "Cell \u001b[0;32mIn[76], line 3\u001b[0m\n\u001b[1;32m      1\u001b[0m oscilating_model \u001b[38;5;241m=\u001b[39m Model(rows,cols, \u001b[38;5;241m3\u001b[39m, \u001b[38;5;241m5\u001b[39m, \u001b[38;5;241m0.5\u001b[39m, \u001b[38;5;241m0.15\u001b[39m, \u001b[38;5;241m0.5\u001b[39m)\n\u001b[1;32m      2\u001b[0m sim \u001b[38;5;241m=\u001b[39m Simulation(oscilating_model)\n\u001b[0;32m----> 3\u001b[0m \u001b[43msim\u001b[49m\u001b[38;5;241;43m.\u001b[39;49m\u001b[43mrun\u001b[49m\u001b[43m(\u001b[49m\u001b[43m)\u001b[49m\n",
      "Cell \u001b[0;32mIn[73], line 23\u001b[0m, in \u001b[0;36mSimulation.run\u001b[0;34m(self)\u001b[0m\n\u001b[1;32m     21\u001b[0m \u001b[38;5;28mself\u001b[39m\u001b[38;5;241m.\u001b[39mdraw()\n\u001b[1;32m     22\u001b[0m \u001b[38;5;28;01mwhile\u001b[39;00m \u001b[38;5;28mself\u001b[39m\u001b[38;5;241m.\u001b[39mrunning:\n\u001b[0;32m---> 23\u001b[0m     \u001b[38;5;28;01mfor\u001b[39;00m event \u001b[38;5;129;01min\u001b[39;00m \u001b[43mpygame\u001b[49m\u001b[38;5;241;43m.\u001b[39;49m\u001b[43mevent\u001b[49m\u001b[38;5;241;43m.\u001b[39;49m\u001b[43mget\u001b[49m\u001b[43m(\u001b[49m\u001b[43m)\u001b[49m:   \n\u001b[1;32m     24\u001b[0m         \u001b[38;5;28;01mif\u001b[39;00m event\u001b[38;5;241m.\u001b[39mtype \u001b[38;5;241m==\u001b[39m QUIT:\n\u001b[1;32m     25\u001b[0m             \u001b[38;5;28mself\u001b[39m\u001b[38;5;241m.\u001b[39mrunning \u001b[38;5;241m=\u001b[39m \u001b[38;5;28;01mFalse\u001b[39;00m\n",
      "\u001b[0;31mKeyboardInterrupt\u001b[0m: "
     ]
    }
   ],
   "source": [
    "oscilating_model = Model(rows,cols, 3, 5, 0.5, 0.15, 0.5)\n",
    "sim = Simulation(oscilating_model)\n",
    "sim.run()"
   ]
  },
  {
   "cell_type": "code",
   "execution_count": 77,
   "id": "4f632c65",
   "metadata": {},
   "outputs": [
    {
     "ename": "KeyboardInterrupt",
     "evalue": "",
     "output_type": "error",
     "traceback": [
      "\u001b[0;31m---------------------------------------------------------------------------\u001b[0m",
      "\u001b[0;31mKeyboardInterrupt\u001b[0m                         Traceback (most recent call last)",
      "Cell \u001b[0;32mIn[77], line 3\u001b[0m\n\u001b[1;32m      1\u001b[0m center_shape_model \u001b[38;5;241m=\u001b[39m Model(rows,cols, \u001b[38;5;241m9\u001b[39m, \u001b[38;5;241m23\u001b[39m, \u001b[38;5;241m0.3\u001b[39m, \u001b[38;5;241m0.05\u001b[39m, \u001b[38;5;241m0.9\u001b[39m)\n\u001b[1;32m      2\u001b[0m sim \u001b[38;5;241m=\u001b[39m Simulation(center_shape_model)\n\u001b[0;32m----> 3\u001b[0m \u001b[43msim\u001b[49m\u001b[38;5;241;43m.\u001b[39;49m\u001b[43mrun\u001b[49m\u001b[43m(\u001b[49m\u001b[43m)\u001b[49m\n",
      "Cell \u001b[0;32mIn[73], line 23\u001b[0m, in \u001b[0;36mSimulation.run\u001b[0;34m(self)\u001b[0m\n\u001b[1;32m     21\u001b[0m \u001b[38;5;28mself\u001b[39m\u001b[38;5;241m.\u001b[39mdraw()\n\u001b[1;32m     22\u001b[0m \u001b[38;5;28;01mwhile\u001b[39;00m \u001b[38;5;28mself\u001b[39m\u001b[38;5;241m.\u001b[39mrunning:\n\u001b[0;32m---> 23\u001b[0m     \u001b[38;5;28;01mfor\u001b[39;00m event \u001b[38;5;129;01min\u001b[39;00m \u001b[43mpygame\u001b[49m\u001b[38;5;241;43m.\u001b[39;49m\u001b[43mevent\u001b[49m\u001b[38;5;241;43m.\u001b[39;49m\u001b[43mget\u001b[49m\u001b[43m(\u001b[49m\u001b[43m)\u001b[49m:   \n\u001b[1;32m     24\u001b[0m         \u001b[38;5;28;01mif\u001b[39;00m event\u001b[38;5;241m.\u001b[39mtype \u001b[38;5;241m==\u001b[39m QUIT:\n\u001b[1;32m     25\u001b[0m             \u001b[38;5;28mself\u001b[39m\u001b[38;5;241m.\u001b[39mrunning \u001b[38;5;241m=\u001b[39m \u001b[38;5;28;01mFalse\u001b[39;00m\n",
      "\u001b[0;31mKeyboardInterrupt\u001b[0m: "
     ]
    }
   ],
   "source": [
    "center_shape_model = Model(rows,cols, 9, 23, 0.3, 0.05, 0.9)\n",
    "sim = Simulation(center_shape_model)\n",
    "sim.run()"
   ]
  },
  {
   "cell_type": "markdown",
   "id": "efb019c1",
   "metadata": {},
   "source": [
    "## Improvements (3 points)\n",
    "In order to get this points you have to complete all of the previous tasks. Add widgets for parameters changing (e.g. slider or text field)\n"
   ]
  },
  {
   "cell_type": "code",
   "execution_count": 78,
   "id": "a7a25d32",
   "metadata": {},
   "outputs": [],
   "source": [
    "import pygame\n",
    "import numpy as np\n",
    "\n",
    "class Slider:\n",
    "    def __init__(self, x, y, w, h, min_val, max_val, initial_val, label):\n",
    "        self.rect = pygame.Rect(x, y, w, h)\n",
    "        self.min_val = min_val\n",
    "        self.max_val = max_val\n",
    "        self.value = initial_val\n",
    "        self.label = label\n",
    "        self.dragging = False\n",
    "\n",
    "    def draw(self, screen):\n",
    "        pygame.draw.rect(screen, (200, 200, 200), self.rect)\n",
    "        pygame.draw.rect(screen, (100, 100, 100), (self.rect.x, self.rect.y + self.rect.h // 2 - 2, self.rect.w, 4))\n",
    "        handle_x = self.rect.x + int((self.value - self.min_val) / (self.max_val - self.min_val) * self.rect.w)\n",
    "        pygame.draw.circle(screen, (0, 0, 0), (handle_x, self.rect.y + self.rect.h // 2), self.rect.h // 2)\n",
    "        font = pygame.font.SysFont(None, 24)\n",
    "        label_surf = font.render(f'{self.label}: {self.value:.2f}', True, (0, 0, 0))\n",
    "        screen.blit(label_surf, (self.rect.x - 70, self.rect.y))\n",
    "\n",
    "    def handle_event(self, event):\n",
    "        if event.type == pygame.MOUSEBUTTONDOWN:\n",
    "            if self.rect.collidepoint(event.pos):\n",
    "                self.dragging = True\n",
    "        elif event.type == pygame.MOUSEBUTTONUP:\n",
    "            self.dragging = False\n",
    "        elif event.type == pygame.MOUSEMOTION:\n",
    "            if self.dragging:\n",
    "                rel_x = event.pos[0] - self.rect.x\n",
    "                rel_x = max(0, min(self.rect.w, rel_x))\n",
    "                self.value = self.min_val + (self.max_val - self.min_val) * (rel_x / self.rect.w)\n",
    "\n",
    "class SimulationCustomizable(Simulation):\n",
    "    def __init__(self, model, timerEnabled=False):\n",
    "        super().__init__(model, timerEnabled, 800, 900)\n",
    "        self.wa_slider = Slider(90, 10, 550, 20, 0, 10, model.wa, 'w_a')\n",
    "        self.wi_slider = Slider(90, 40, 550, 20, 0, 10, model.wi, 'w_i')\n",
    "        self.p1_slider = Slider(90, 70, 550, 20, 0, 1, model.p1, 'p')\n",
    "        self.padding_y = 100\n",
    "\n",
    "    def draw(self):\n",
    "        self.screen.fill((128, 128, 128))\n",
    "        self.model.drawGrid(self.screen, self.w_width, self.w_height, self.padding_y)\n",
    "        self.wa_slider.draw(self.screen)\n",
    "        self.wi_slider.draw(self.screen)\n",
    "        self.p1_slider.draw(self.screen)\n",
    "        pygame.display.flip()\n",
    "\n",
    "    def run(self):\n",
    "        self.running = True\n",
    "        self.draw()\n",
    "        while self.running:\n",
    "            for event in pygame.event.get():\n",
    "                if event.type == QUIT:\n",
    "                    self.running = False\n",
    "                if event.type == KEYDOWN and event.key == pygame.K_SPACE:\n",
    "                    self.model.update()\n",
    "                    self.draw()\n",
    "                if event.type == pygame.KEYDOWN and event.key == pygame.K_r:\n",
    "                    self.model.grid = np.random.choice([0, 1], size=(rows, cols), p=[1-self.model.p1, self.model.p1])\n",
    "                    self.draw()\n",
    "                if self.timerEnabled and event.type == self.timer_event:\n",
    "                    self.model.update()\n",
    "                    self.draw()\n",
    "                self.wa_slider.handle_event(event)\n",
    "                self.wi_slider.handle_event(event)\n",
    "                self.p1_slider.handle_event(event)\n",
    "            self.model.wa = self.wa_slider.value\n",
    "            self.model.wi = self.wi_slider.value\n",
    "            self.model.p1 = self.p1_slider.value\n",
    "            self.draw()\n",
    "        pygame.quit()"
   ]
  },
  {
   "cell_type": "code",
   "execution_count": 79,
   "id": "69607ebc",
   "metadata": {},
   "outputs": [
    {
     "ename": "KeyboardInterrupt",
     "evalue": "",
     "output_type": "error",
     "traceback": [
      "\u001b[0;31m---------------------------------------------------------------------------\u001b[0m",
      "\u001b[0;31mKeyboardInterrupt\u001b[0m                         Traceback (most recent call last)",
      "Cell \u001b[0;32mIn[79], line 3\u001b[0m\n\u001b[1;32m      1\u001b[0m stable_model \u001b[38;5;241m=\u001b[39m Model(rows,cols, \u001b[38;5;241m3\u001b[39m, \u001b[38;5;241m5\u001b[39m, \u001b[38;5;241m2.77\u001b[39m, \u001b[38;5;241m1\u001b[39m, \u001b[38;5;241m0.5\u001b[39m)\n\u001b[1;32m      2\u001b[0m custom_sim \u001b[38;5;241m=\u001b[39m SimulationCustomizable(stable_model)\n\u001b[0;32m----> 3\u001b[0m \u001b[43mcustom_sim\u001b[49m\u001b[38;5;241;43m.\u001b[39;49m\u001b[43mrun\u001b[49m\u001b[43m(\u001b[49m\u001b[43m)\u001b[49m\n",
      "Cell \u001b[0;32mIn[78], line 72\u001b[0m, in \u001b[0;36mSimulationCustomizable.run\u001b[0;34m(self)\u001b[0m\n\u001b[1;32m     70\u001b[0m     \u001b[38;5;28mself\u001b[39m\u001b[38;5;241m.\u001b[39mmodel\u001b[38;5;241m.\u001b[39mwi \u001b[38;5;241m=\u001b[39m \u001b[38;5;28mself\u001b[39m\u001b[38;5;241m.\u001b[39mwi_slider\u001b[38;5;241m.\u001b[39mvalue\n\u001b[1;32m     71\u001b[0m     \u001b[38;5;28mself\u001b[39m\u001b[38;5;241m.\u001b[39mmodel\u001b[38;5;241m.\u001b[39mp1 \u001b[38;5;241m=\u001b[39m \u001b[38;5;28mself\u001b[39m\u001b[38;5;241m.\u001b[39mp1_slider\u001b[38;5;241m.\u001b[39mvalue\n\u001b[0;32m---> 72\u001b[0m     \u001b[38;5;28;43mself\u001b[39;49m\u001b[38;5;241;43m.\u001b[39;49m\u001b[43mdraw\u001b[49m\u001b[43m(\u001b[49m\u001b[43m)\u001b[49m\n\u001b[1;32m     73\u001b[0m pygame\u001b[38;5;241m.\u001b[39mquit()\n",
      "Cell \u001b[0;32mIn[78], line 45\u001b[0m, in \u001b[0;36mSimulationCustomizable.draw\u001b[0;34m(self)\u001b[0m\n\u001b[1;32m     43\u001b[0m \u001b[38;5;28mself\u001b[39m\u001b[38;5;241m.\u001b[39mscreen\u001b[38;5;241m.\u001b[39mfill((\u001b[38;5;241m128\u001b[39m, \u001b[38;5;241m128\u001b[39m, \u001b[38;5;241m128\u001b[39m))\n\u001b[1;32m     44\u001b[0m \u001b[38;5;28mself\u001b[39m\u001b[38;5;241m.\u001b[39mmodel\u001b[38;5;241m.\u001b[39mdrawGrid(\u001b[38;5;28mself\u001b[39m\u001b[38;5;241m.\u001b[39mscreen, \u001b[38;5;28mself\u001b[39m\u001b[38;5;241m.\u001b[39mw_width, \u001b[38;5;28mself\u001b[39m\u001b[38;5;241m.\u001b[39mw_height, \u001b[38;5;28mself\u001b[39m\u001b[38;5;241m.\u001b[39mpadding_y)\n\u001b[0;32m---> 45\u001b[0m \u001b[38;5;28;43mself\u001b[39;49m\u001b[38;5;241;43m.\u001b[39;49m\u001b[43mwa_slider\u001b[49m\u001b[38;5;241;43m.\u001b[39;49m\u001b[43mdraw\u001b[49m\u001b[43m(\u001b[49m\u001b[38;5;28;43mself\u001b[39;49m\u001b[38;5;241;43m.\u001b[39;49m\u001b[43mscreen\u001b[49m\u001b[43m)\u001b[49m\n\u001b[1;32m     46\u001b[0m \u001b[38;5;28mself\u001b[39m\u001b[38;5;241m.\u001b[39mwi_slider\u001b[38;5;241m.\u001b[39mdraw(\u001b[38;5;28mself\u001b[39m\u001b[38;5;241m.\u001b[39mscreen)\n\u001b[1;32m     47\u001b[0m \u001b[38;5;28mself\u001b[39m\u001b[38;5;241m.\u001b[39mp1_slider\u001b[38;5;241m.\u001b[39mdraw(\u001b[38;5;28mself\u001b[39m\u001b[38;5;241m.\u001b[39mscreen)\n",
      "Cell \u001b[0;32mIn[78], line 19\u001b[0m, in \u001b[0;36mSlider.draw\u001b[0;34m(self, screen)\u001b[0m\n\u001b[1;32m     17\u001b[0m pygame\u001b[38;5;241m.\u001b[39mdraw\u001b[38;5;241m.\u001b[39mcircle(screen, (\u001b[38;5;241m0\u001b[39m, \u001b[38;5;241m0\u001b[39m, \u001b[38;5;241m0\u001b[39m), (handle_x, \u001b[38;5;28mself\u001b[39m\u001b[38;5;241m.\u001b[39mrect\u001b[38;5;241m.\u001b[39my \u001b[38;5;241m+\u001b[39m \u001b[38;5;28mself\u001b[39m\u001b[38;5;241m.\u001b[39mrect\u001b[38;5;241m.\u001b[39mh \u001b[38;5;241m/\u001b[39m\u001b[38;5;241m/\u001b[39m \u001b[38;5;241m2\u001b[39m), \u001b[38;5;28mself\u001b[39m\u001b[38;5;241m.\u001b[39mrect\u001b[38;5;241m.\u001b[39mh \u001b[38;5;241m/\u001b[39m\u001b[38;5;241m/\u001b[39m \u001b[38;5;241m2\u001b[39m)\n\u001b[1;32m     18\u001b[0m font \u001b[38;5;241m=\u001b[39m pygame\u001b[38;5;241m.\u001b[39mfont\u001b[38;5;241m.\u001b[39mSysFont(\u001b[38;5;28;01mNone\u001b[39;00m, \u001b[38;5;241m24\u001b[39m)\n\u001b[0;32m---> 19\u001b[0m label_surf \u001b[38;5;241m=\u001b[39m \u001b[43mfont\u001b[49m\u001b[38;5;241;43m.\u001b[39;49m\u001b[43mrender\u001b[49m\u001b[43m(\u001b[49m\u001b[38;5;124;43mf\u001b[39;49m\u001b[38;5;124;43m'\u001b[39;49m\u001b[38;5;132;43;01m{\u001b[39;49;00m\u001b[38;5;28;43mself\u001b[39;49m\u001b[38;5;241;43m.\u001b[39;49m\u001b[43mlabel\u001b[49m\u001b[38;5;132;43;01m}\u001b[39;49;00m\u001b[38;5;124;43m: \u001b[39;49m\u001b[38;5;132;43;01m{\u001b[39;49;00m\u001b[38;5;28;43mself\u001b[39;49m\u001b[38;5;241;43m.\u001b[39;49m\u001b[43mvalue\u001b[49m\u001b[38;5;132;43;01m:\u001b[39;49;00m\u001b[38;5;124;43m.2f\u001b[39;49m\u001b[38;5;132;43;01m}\u001b[39;49;00m\u001b[38;5;124;43m'\u001b[39;49m\u001b[43m,\u001b[49m\u001b[43m \u001b[49m\u001b[38;5;28;43;01mTrue\u001b[39;49;00m\u001b[43m,\u001b[49m\u001b[43m \u001b[49m\u001b[43m(\u001b[49m\u001b[38;5;241;43m0\u001b[39;49m\u001b[43m,\u001b[49m\u001b[43m \u001b[49m\u001b[38;5;241;43m0\u001b[39;49m\u001b[43m,\u001b[49m\u001b[43m \u001b[49m\u001b[38;5;241;43m0\u001b[39;49m\u001b[43m)\u001b[49m\u001b[43m)\u001b[49m\n\u001b[1;32m     20\u001b[0m screen\u001b[38;5;241m.\u001b[39mblit(label_surf, (\u001b[38;5;28mself\u001b[39m\u001b[38;5;241m.\u001b[39mrect\u001b[38;5;241m.\u001b[39mx \u001b[38;5;241m-\u001b[39m \u001b[38;5;241m70\u001b[39m, \u001b[38;5;28mself\u001b[39m\u001b[38;5;241m.\u001b[39mrect\u001b[38;5;241m.\u001b[39my))\n",
      "\u001b[0;31mKeyboardInterrupt\u001b[0m: "
     ]
    }
   ],
   "source": [
    "stable_model = Model(rows,cols, 3, 5, 2.77, 1, 0.5)\n",
    "custom_sim = SimulationCustomizable(stable_model)\n",
    "custom_sim.run()"
   ]
  },
  {
   "cell_type": "markdown",
   "id": "711fe4ed",
   "metadata": {},
   "source": [
    "# Your cellular automata (4 points)"
   ]
  },
  {
   "cell_type": "markdown",
   "id": "a994ba20",
   "metadata": {},
   "source": [
    "In order to get this points you have to complete all of the previous tasks.\n",
    "Find another example of CA based model, descirbe the rules and implement the automata"
   ]
  },
  {
   "cell_type": "code",
   "execution_count": 80,
   "id": "5cc1690c",
   "metadata": {},
   "outputs": [],
   "source": [
    "class ForestFireModel:\n",
    "    def __init__(self, rows, cols, p_tree, p_fire, p_empty):\n",
    "        self.grid = np.random.choice([0, 1, 2], size=(rows, cols), p=[p_empty, p_tree, p_fire])\n",
    "        self.p_tree = p_tree\n",
    "        self.p_fire = p_fire\n",
    "        self.p_empty = p_empty\n",
    "\n",
    "    def update(self):\n",
    "        rows, cols = self.grid.shape\n",
    "        new_grid = self.grid.copy()\n",
    "        for x in range(rows):\n",
    "            for y in range(cols):\n",
    "                if self.grid[x, y] == 2: \n",
    "                    new_grid[x, y] = 0  \n",
    "                elif self.grid[x, y] == 1: \n",
    "                    if 2 in self.grid[max(0, x-1):min(rows, x+2), max(0, y-1):min(cols, y+2)]:\n",
    "                        new_grid[x, y] = 2 \n",
    "                    elif np.random.random() < self.p_fire:\n",
    "                        new_grid[x, y] = 2  \n",
    "                elif self.grid[x, y] == 0: \n",
    "                    if np.random.random() < self.p_tree:\n",
    "                        new_grid[x, y] = 1\n",
    "        self.grid = new_grid\n",
    "\n",
    "    def drawGrid(self, screen, w_width, w_height, padding_y=0):\n",
    "        green = (0, 255, 0)\n",
    "        red = (255, 0, 0)\n",
    "        black = (0, 0, 0)\n",
    "        rows, cols = self.grid.shape\n",
    "        blockSize = min(w_width // cols, (w_height - padding_y) // rows)\n",
    "        for x in range(rows):\n",
    "            for y in range(cols):\n",
    "                pos_x = blockSize * x\n",
    "                pos_y = blockSize * y\n",
    "                rect = pygame.Rect(pos_x, pos_y + padding_y, blockSize, blockSize)\n",
    "                if self.grid[x, y] == 1:\n",
    "                    pygame.draw.rect(screen, green, rect, 0)\n",
    "                elif self.grid[x, y] == 2:\n",
    "                    pygame.draw.rect(screen, red, rect, 0)\n",
    "                else:\n",
    "                    pygame.draw.rect(screen, black, rect, 0)\n"
   ]
  },
  {
   "cell_type": "code",
   "execution_count": 81,
   "id": "eff47374",
   "metadata": {},
   "outputs": [
    {
     "ename": "KeyboardInterrupt",
     "evalue": "",
     "output_type": "error",
     "traceback": [
      "\u001b[0;31m---------------------------------------------------------------------------\u001b[0m",
      "\u001b[0;31mKeyboardInterrupt\u001b[0m                         Traceback (most recent call last)",
      "Cell \u001b[0;32mIn[81], line 3\u001b[0m\n\u001b[1;32m      1\u001b[0m forest_fire_model \u001b[38;5;241m=\u001b[39m ForestFireModel(rows, cols, \u001b[38;5;241m0.05\u001b[39m, \u001b[38;5;241m0.05\u001b[39m, \u001b[38;5;241m0.9\u001b[39m)\n\u001b[1;32m      2\u001b[0m forest_fire_sim \u001b[38;5;241m=\u001b[39m Simulation(forest_fire_model)\n\u001b[0;32m----> 3\u001b[0m \u001b[43mforest_fire_sim\u001b[49m\u001b[38;5;241;43m.\u001b[39;49m\u001b[43mrun\u001b[49m\u001b[43m(\u001b[49m\u001b[43m)\u001b[49m\n",
      "Cell \u001b[0;32mIn[73], line 23\u001b[0m, in \u001b[0;36mSimulation.run\u001b[0;34m(self)\u001b[0m\n\u001b[1;32m     21\u001b[0m \u001b[38;5;28mself\u001b[39m\u001b[38;5;241m.\u001b[39mdraw()\n\u001b[1;32m     22\u001b[0m \u001b[38;5;28;01mwhile\u001b[39;00m \u001b[38;5;28mself\u001b[39m\u001b[38;5;241m.\u001b[39mrunning:\n\u001b[0;32m---> 23\u001b[0m     \u001b[38;5;28;01mfor\u001b[39;00m event \u001b[38;5;129;01min\u001b[39;00m \u001b[43mpygame\u001b[49m\u001b[38;5;241;43m.\u001b[39;49m\u001b[43mevent\u001b[49m\u001b[38;5;241;43m.\u001b[39;49m\u001b[43mget\u001b[49m\u001b[43m(\u001b[49m\u001b[43m)\u001b[49m:   \n\u001b[1;32m     24\u001b[0m         \u001b[38;5;28;01mif\u001b[39;00m event\u001b[38;5;241m.\u001b[39mtype \u001b[38;5;241m==\u001b[39m QUIT:\n\u001b[1;32m     25\u001b[0m             \u001b[38;5;28mself\u001b[39m\u001b[38;5;241m.\u001b[39mrunning \u001b[38;5;241m=\u001b[39m \u001b[38;5;28;01mFalse\u001b[39;00m\n",
      "\u001b[0;31mKeyboardInterrupt\u001b[0m: "
     ]
    }
   ],
   "source": [
    "forest_fire_model = ForestFireModel(rows, cols, 0.05, 0.05, 0.9)\n",
    "forest_fire_sim = Simulation(forest_fire_model)\n",
    "forest_fire_sim.run()"
   ]
  }
 ],
 "metadata": {
  "kernelspec": {
   "display_name": "agent-systems",
   "language": "python",
   "name": "python3"
  },
  "language_info": {
   "codemirror_mode": {
    "name": "ipython",
    "version": 3
   },
   "file_extension": ".py",
   "mimetype": "text/x-python",
   "name": "python",
   "nbconvert_exporter": "python",
   "pygments_lexer": "ipython3",
   "version": "3.13.0"
  }
 },
 "nbformat": 4,
 "nbformat_minor": 5
}
